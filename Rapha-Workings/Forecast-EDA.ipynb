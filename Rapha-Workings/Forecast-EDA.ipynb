{
 "cells": [
  {
   "cell_type": "code",
   "execution_count": 51,
   "id": "fd0c0148",
   "metadata": {},
   "outputs": [],
   "source": [
    "import pandas as pd\n",
    "from sklearn.metrics import mean_absolute_error, mean_squared_error\n",
    "import utils\n",
    "import seaborn as sns\n",
    "import matplotlib.pyplot as plt"
   ]
  },
  {
   "cell_type": "code",
   "execution_count": 2,
   "id": "05b4dd56",
   "metadata": {},
   "outputs": [],
   "source": [
    "#Load combined temperature and demand dataset for all states\n",
    "combined = pd.read_csv(\"../data/combined.csv\")"
   ]
  },
  {
   "cell_type": "code",
   "execution_count": 4,
   "id": "bad2c0e1",
   "metadata": {},
   "outputs": [
    {
     "data": {
      "text/html": [
       "<div>\n",
       "<style scoped>\n",
       "    .dataframe tbody tr th:only-of-type {\n",
       "        vertical-align: middle;\n",
       "    }\n",
       "\n",
       "    .dataframe tbody tr th {\n",
       "        vertical-align: top;\n",
       "    }\n",
       "\n",
       "    .dataframe thead th {\n",
       "        text-align: right;\n",
       "    }\n",
       "</style>\n",
       "<table border=\"1\" class=\"dataframe\">\n",
       "  <thead>\n",
       "    <tr style=\"text-align: right;\">\n",
       "      <th></th>\n",
       "      <th>Unnamed: 0</th>\n",
       "      <th>LOCATION</th>\n",
       "      <th>DATETIME</th>\n",
       "      <th>TEMPERATURE</th>\n",
       "      <th>TOTALDEMAND</th>\n",
       "      <th>REGIONID</th>\n",
       "    </tr>\n",
       "  </thead>\n",
       "  <tbody>\n",
       "    <tr>\n",
       "      <th>0</th>\n",
       "      <td>0</td>\n",
       "      <td>Bankstown</td>\n",
       "      <td>2010-01-01 00:00:00</td>\n",
       "      <td>23.1</td>\n",
       "      <td>8038.00</td>\n",
       "      <td>NSW1</td>\n",
       "    </tr>\n",
       "    <tr>\n",
       "      <th>1</th>\n",
       "      <td>1</td>\n",
       "      <td>Bankstown</td>\n",
       "      <td>2010-01-01 00:30:00</td>\n",
       "      <td>22.9</td>\n",
       "      <td>7809.31</td>\n",
       "      <td>NSW1</td>\n",
       "    </tr>\n",
       "    <tr>\n",
       "      <th>2</th>\n",
       "      <td>2</td>\n",
       "      <td>Bankstown</td>\n",
       "      <td>2010-01-01 01:00:00</td>\n",
       "      <td>22.6</td>\n",
       "      <td>7483.69</td>\n",
       "      <td>NSW1</td>\n",
       "    </tr>\n",
       "    <tr>\n",
       "      <th>3</th>\n",
       "      <td>3</td>\n",
       "      <td>Bankstown</td>\n",
       "      <td>2010-01-01 01:30:00</td>\n",
       "      <td>22.5</td>\n",
       "      <td>7117.23</td>\n",
       "      <td>NSW1</td>\n",
       "    </tr>\n",
       "    <tr>\n",
       "      <th>4</th>\n",
       "      <td>4</td>\n",
       "      <td>Bankstown</td>\n",
       "      <td>2010-01-01 02:00:00</td>\n",
       "      <td>22.5</td>\n",
       "      <td>6812.03</td>\n",
       "      <td>NSW1</td>\n",
       "    </tr>\n",
       "  </tbody>\n",
       "</table>\n",
       "</div>"
      ],
      "text/plain": [
       "   Unnamed: 0   LOCATION             DATETIME  TEMPERATURE  TOTALDEMAND  \\\n",
       "0           0  Bankstown  2010-01-01 00:00:00         23.1      8038.00   \n",
       "1           1  Bankstown  2010-01-01 00:30:00         22.9      7809.31   \n",
       "2           2  Bankstown  2010-01-01 01:00:00         22.6      7483.69   \n",
       "3           3  Bankstown  2010-01-01 01:30:00         22.5      7117.23   \n",
       "4           4  Bankstown  2010-01-01 02:00:00         22.5      6812.03   \n",
       "\n",
       "  REGIONID  \n",
       "0     NSW1  \n",
       "1     NSW1  \n",
       "2     NSW1  \n",
       "3     NSW1  \n",
       "4     NSW1  "
      ]
     },
     "execution_count": 4,
     "metadata": {},
     "output_type": "execute_result"
    }
   ],
   "source": [
    "#Read top 5\n",
    "combined.head()"
   ]
  },
  {
   "cell_type": "code",
   "execution_count": 6,
   "id": "5e3ea1cc",
   "metadata": {},
   "outputs": [],
   "source": [
    "# Load forecast data\n",
    "forecast_nsw = pd.read_csv(\"../data/H03-2021/forecastdemand_nsw.csv\")\n",
    "forecast_vic = pd.read_csv(\"../data/H06-2021/a/forecastdemand_vic.csv\")\n",
    "forecast_sa = pd.read_csv(\"../data/H06-2021/b/forecastdemand_sa.csv\")\n",
    "forecast_qld = pd.read_csv(\"../data/H06-2021/c/forecastdemand_qld.csv\")"
   ]
  },
  {
   "cell_type": "code",
   "execution_count": 11,
   "id": "9b5cf47c",
   "metadata": {},
   "outputs": [],
   "source": [
    "# Combine forecase data for all states\n",
    "forecast = pd.concat([forecast_nsw,forecast_vic,forecast_sa,forecast_qld])"
   ]
  },
  {
   "cell_type": "code",
   "execution_count": 14,
   "id": "61b9e237",
   "metadata": {},
   "outputs": [],
   "source": [
    "# Save forecast data as a checkpoint\n",
    "forecast.to_csv('../../Datasets/combined_forecast.csv',header=combined.columns, index=False)"
   ]
  },
  {
   "cell_type": "code",
   "execution_count": 15,
   "id": "fdd84a2f",
   "metadata": {},
   "outputs": [],
   "source": [
    "# Combine demand and forecast data\n",
    "df = pd.merge(combined, forecast, on=\"DATETIME\")"
   ]
  },
  {
   "cell_type": "code",
   "execution_count": 20,
   "id": "ec98c714",
   "metadata": {},
   "outputs": [
    {
     "data": {
      "text/html": [
       "<div>\n",
       "<style scoped>\n",
       "    .dataframe tbody tr th:only-of-type {\n",
       "        vertical-align: middle;\n",
       "    }\n",
       "\n",
       "    .dataframe tbody tr th {\n",
       "        vertical-align: top;\n",
       "    }\n",
       "\n",
       "    .dataframe thead th {\n",
       "        text-align: right;\n",
       "    }\n",
       "</style>\n",
       "<table border=\"1\" class=\"dataframe\">\n",
       "  <thead>\n",
       "    <tr style=\"text-align: right;\">\n",
       "      <th></th>\n",
       "      <th>Unnamed: 0</th>\n",
       "      <th>LOCATION</th>\n",
       "      <th>DATETIME</th>\n",
       "      <th>TEMPERATURE</th>\n",
       "      <th>TOTALDEMAND</th>\n",
       "      <th>REGIONID_x</th>\n",
       "      <th>PREDISPATCHSEQNO</th>\n",
       "      <th>REGIONID_y</th>\n",
       "      <th>PERIODID</th>\n",
       "      <th>FORECASTDEMAND</th>\n",
       "      <th>LASTCHANGED</th>\n",
       "    </tr>\n",
       "  </thead>\n",
       "  <tbody>\n",
       "    <tr>\n",
       "      <th>0</th>\n",
       "      <td>0</td>\n",
       "      <td>Bankstown</td>\n",
       "      <td>2010-01-01 00:00:00</td>\n",
       "      <td>23.1</td>\n",
       "      <td>8038.0</td>\n",
       "      <td>NSW1</td>\n",
       "      <td>2009123018</td>\n",
       "      <td>NSW1</td>\n",
       "      <td>71</td>\n",
       "      <td>7832.04</td>\n",
       "      <td>2009-12-30 12:31:49</td>\n",
       "    </tr>\n",
       "    <tr>\n",
       "      <th>1</th>\n",
       "      <td>0</td>\n",
       "      <td>Bankstown</td>\n",
       "      <td>2010-01-01 00:00:00</td>\n",
       "      <td>23.1</td>\n",
       "      <td>8038.0</td>\n",
       "      <td>NSW1</td>\n",
       "      <td>2009123019</td>\n",
       "      <td>NSW1</td>\n",
       "      <td>70</td>\n",
       "      <td>7832.04</td>\n",
       "      <td>2009-12-30 13:01:43</td>\n",
       "    </tr>\n",
       "    <tr>\n",
       "      <th>2</th>\n",
       "      <td>0</td>\n",
       "      <td>Bankstown</td>\n",
       "      <td>2010-01-01 00:00:00</td>\n",
       "      <td>23.1</td>\n",
       "      <td>8038.0</td>\n",
       "      <td>NSW1</td>\n",
       "      <td>2009123020</td>\n",
       "      <td>NSW1</td>\n",
       "      <td>69</td>\n",
       "      <td>7832.03</td>\n",
       "      <td>2009-12-30 13:31:36</td>\n",
       "    </tr>\n",
       "    <tr>\n",
       "      <th>3</th>\n",
       "      <td>0</td>\n",
       "      <td>Bankstown</td>\n",
       "      <td>2010-01-01 00:00:00</td>\n",
       "      <td>23.1</td>\n",
       "      <td>8038.0</td>\n",
       "      <td>NSW1</td>\n",
       "      <td>2009123021</td>\n",
       "      <td>NSW1</td>\n",
       "      <td>68</td>\n",
       "      <td>7832.03</td>\n",
       "      <td>2009-12-30 14:01:44</td>\n",
       "    </tr>\n",
       "    <tr>\n",
       "      <th>4</th>\n",
       "      <td>0</td>\n",
       "      <td>Bankstown</td>\n",
       "      <td>2010-01-01 00:00:00</td>\n",
       "      <td>23.1</td>\n",
       "      <td>8038.0</td>\n",
       "      <td>NSW1</td>\n",
       "      <td>2009123022</td>\n",
       "      <td>NSW1</td>\n",
       "      <td>67</td>\n",
       "      <td>7830.96</td>\n",
       "      <td>2009-12-30 14:31:35</td>\n",
       "    </tr>\n",
       "  </tbody>\n",
       "</table>\n",
       "</div>"
      ],
      "text/plain": [
       "   Unnamed: 0   LOCATION             DATETIME  TEMPERATURE  TOTALDEMAND  \\\n",
       "0           0  Bankstown  2010-01-01 00:00:00         23.1       8038.0   \n",
       "1           0  Bankstown  2010-01-01 00:00:00         23.1       8038.0   \n",
       "2           0  Bankstown  2010-01-01 00:00:00         23.1       8038.0   \n",
       "3           0  Bankstown  2010-01-01 00:00:00         23.1       8038.0   \n",
       "4           0  Bankstown  2010-01-01 00:00:00         23.1       8038.0   \n",
       "\n",
       "  REGIONID_x  PREDISPATCHSEQNO REGIONID_y  PERIODID  FORECASTDEMAND  \\\n",
       "0       NSW1        2009123018       NSW1        71         7832.04   \n",
       "1       NSW1        2009123019       NSW1        70         7832.04   \n",
       "2       NSW1        2009123020       NSW1        69         7832.03   \n",
       "3       NSW1        2009123021       NSW1        68         7832.03   \n",
       "4       NSW1        2009123022       NSW1        67         7830.96   \n",
       "\n",
       "           LASTCHANGED  \n",
       "0  2009-12-30 12:31:49  \n",
       "1  2009-12-30 13:01:43  \n",
       "2  2009-12-30 13:31:36  \n",
       "3  2009-12-30 14:01:44  \n",
       "4  2009-12-30 14:31:35  "
      ]
     },
     "execution_count": 20,
     "metadata": {},
     "output_type": "execute_result"
    }
   ],
   "source": [
    "df.head()"
   ]
  },
  {
   "cell_type": "code",
   "execution_count": 32,
   "id": "7c3a4fdc",
   "metadata": {},
   "outputs": [],
   "source": [
    "# Drop first column\n",
    "#df.drop(['Unnamed: 0'], axis=1, inplace=True)\n",
    "df['DATETIME'] = df['DATETIME'].apply(lambda x: utils.calculate_month(x))"
   ]
  },
  {
   "cell_type": "code",
   "execution_count": 33,
   "id": "46b77c44",
   "metadata": {},
   "outputs": [
    {
     "data": {
      "text/html": [
       "<div>\n",
       "<style scoped>\n",
       "    .dataframe tbody tr th:only-of-type {\n",
       "        vertical-align: middle;\n",
       "    }\n",
       "\n",
       "    .dataframe tbody tr th {\n",
       "        vertical-align: top;\n",
       "    }\n",
       "\n",
       "    .dataframe thead th {\n",
       "        text-align: right;\n",
       "    }\n",
       "</style>\n",
       "<table border=\"1\" class=\"dataframe\">\n",
       "  <thead>\n",
       "    <tr style=\"text-align: right;\">\n",
       "      <th></th>\n",
       "      <th>LOCATION</th>\n",
       "      <th>DATETIME</th>\n",
       "      <th>TEMPERATURE</th>\n",
       "      <th>TOTALDEMAND</th>\n",
       "      <th>REGIONID_x</th>\n",
       "      <th>PREDISPATCHSEQNO</th>\n",
       "      <th>REGIONID_y</th>\n",
       "      <th>PERIODID</th>\n",
       "      <th>FORECASTDEMAND</th>\n",
       "      <th>LASTCHANGED</th>\n",
       "    </tr>\n",
       "  </thead>\n",
       "  <tbody>\n",
       "    <tr>\n",
       "      <th>0</th>\n",
       "      <td>Bankstown</td>\n",
       "      <td>2010-01-01</td>\n",
       "      <td>23.1</td>\n",
       "      <td>8038.0</td>\n",
       "      <td>NSW1</td>\n",
       "      <td>2009123018</td>\n",
       "      <td>NSW1</td>\n",
       "      <td>71</td>\n",
       "      <td>7832.04</td>\n",
       "      <td>2009-12-30 12:31:49</td>\n",
       "    </tr>\n",
       "    <tr>\n",
       "      <th>1</th>\n",
       "      <td>Bankstown</td>\n",
       "      <td>2010-01-01</td>\n",
       "      <td>23.1</td>\n",
       "      <td>8038.0</td>\n",
       "      <td>NSW1</td>\n",
       "      <td>2009123019</td>\n",
       "      <td>NSW1</td>\n",
       "      <td>70</td>\n",
       "      <td>7832.04</td>\n",
       "      <td>2009-12-30 13:01:43</td>\n",
       "    </tr>\n",
       "    <tr>\n",
       "      <th>2</th>\n",
       "      <td>Bankstown</td>\n",
       "      <td>2010-01-01</td>\n",
       "      <td>23.1</td>\n",
       "      <td>8038.0</td>\n",
       "      <td>NSW1</td>\n",
       "      <td>2009123020</td>\n",
       "      <td>NSW1</td>\n",
       "      <td>69</td>\n",
       "      <td>7832.03</td>\n",
       "      <td>2009-12-30 13:31:36</td>\n",
       "    </tr>\n",
       "    <tr>\n",
       "      <th>3</th>\n",
       "      <td>Bankstown</td>\n",
       "      <td>2010-01-01</td>\n",
       "      <td>23.1</td>\n",
       "      <td>8038.0</td>\n",
       "      <td>NSW1</td>\n",
       "      <td>2009123021</td>\n",
       "      <td>NSW1</td>\n",
       "      <td>68</td>\n",
       "      <td>7832.03</td>\n",
       "      <td>2009-12-30 14:01:44</td>\n",
       "    </tr>\n",
       "    <tr>\n",
       "      <th>4</th>\n",
       "      <td>Bankstown</td>\n",
       "      <td>2010-01-01</td>\n",
       "      <td>23.1</td>\n",
       "      <td>8038.0</td>\n",
       "      <td>NSW1</td>\n",
       "      <td>2009123022</td>\n",
       "      <td>NSW1</td>\n",
       "      <td>67</td>\n",
       "      <td>7830.96</td>\n",
       "      <td>2009-12-30 14:31:35</td>\n",
       "    </tr>\n",
       "  </tbody>\n",
       "</table>\n",
       "</div>"
      ],
      "text/plain": [
       "    LOCATION   DATETIME  TEMPERATURE  TOTALDEMAND REGIONID_x  \\\n",
       "0  Bankstown 2010-01-01         23.1       8038.0       NSW1   \n",
       "1  Bankstown 2010-01-01         23.1       8038.0       NSW1   \n",
       "2  Bankstown 2010-01-01         23.1       8038.0       NSW1   \n",
       "3  Bankstown 2010-01-01         23.1       8038.0       NSW1   \n",
       "4  Bankstown 2010-01-01         23.1       8038.0       NSW1   \n",
       "\n",
       "   PREDISPATCHSEQNO REGIONID_y  PERIODID  FORECASTDEMAND          LASTCHANGED  \n",
       "0        2009123018       NSW1        71         7832.04  2009-12-30 12:31:49  \n",
       "1        2009123019       NSW1        70         7832.04  2009-12-30 13:01:43  \n",
       "2        2009123020       NSW1        69         7832.03  2009-12-30 13:31:36  \n",
       "3        2009123021       NSW1        68         7832.03  2009-12-30 14:01:44  \n",
       "4        2009123022       NSW1        67         7830.96  2009-12-30 14:31:35  "
      ]
     },
     "execution_count": 33,
     "metadata": {},
     "output_type": "execute_result"
    }
   ],
   "source": [
    "# Save combined demand, forecast data as a checkpoint\n",
    "#df.to_csv('../../Datasets/combined_demand_forecast.csv',header=combined.columns, index=False)\n",
    "df.head()"
   ]
  },
  {
   "cell_type": "code",
   "execution_count": 38,
   "id": "3f6ff66f",
   "metadata": {},
   "outputs": [
    {
     "name": "stdout",
     "output_type": "stream",
     "text": [
      "12873370.785899756  Mean Squared Error, All\n"
     ]
    }
   ],
   "source": [
    "#Baseline metrics all states, all years\n",
    "y_pred_all = df['FORECASTDEMAND'].to_numpy()\n",
    "y_true_all = df['TOTALDEMAND'].to_numpy()\n",
    "\n",
    "mae_all = mean_squared_error(y_true_all, y_pred_all)\n",
    "\n",
    "print(mae_all, ' Mean Squared Error, All')"
   ]
  },
  {
   "cell_type": "code",
   "execution_count": 39,
   "id": "b8ffc41d",
   "metadata": {},
   "outputs": [
    {
     "name": "stdout",
     "output_type": "stream",
     "text": [
      "10247627.651199264  Mean Squared Error, NSW\n"
     ]
    }
   ],
   "source": [
    "#Baseline Metrics NSW, all years\n",
    "filter_state = 'NSW1'\n",
    "rows = df[df.REGIONID_x == filter_state].index\n",
    "cols = ['TOTALDEMAND','FORECASTDEMAND']\n",
    "\n",
    "nsw = df.loc[rows,cols]\n",
    "\n",
    "y_pred_all = nsw['FORECASTDEMAND'].to_numpy()\n",
    "y_true_all = nsw['TOTALDEMAND'].to_numpy()\n",
    "\n",
    "mae_all = mean_squared_error(y_true_all, y_pred_all)\n",
    "\n",
    "print(mae_all, ' Mean Squared Error, NSW')"
   ]
  },
  {
   "cell_type": "code",
   "execution_count": 40,
   "id": "f844e3a8",
   "metadata": {},
   "outputs": [
    {
     "name": "stdout",
     "output_type": "stream",
     "text": [
      "6864981.864405128  Mean Squared Error, VIC\n"
     ]
    }
   ],
   "source": [
    "#Baseline Metrics VIC, all years\n",
    "filter_state = 'VIC1'\n",
    "rows = df[df.REGIONID_x == filter_state].index\n",
    "cols = ['TOTALDEMAND','FORECASTDEMAND']\n",
    "\n",
    "nsw = df.loc[rows,cols]\n",
    "\n",
    "y_pred_all = nsw['FORECASTDEMAND'].to_numpy()\n",
    "y_true_all = nsw['TOTALDEMAND'].to_numpy()\n",
    "\n",
    "mae_all = mean_squared_error(y_true_all, y_pred_all)\n",
    "\n",
    "print(mae_all, ' Mean Squared Error, VIC')"
   ]
  },
  {
   "cell_type": "code",
   "execution_count": 41,
   "id": "997c3466",
   "metadata": {},
   "outputs": [
    {
     "name": "stdout",
     "output_type": "stream",
     "text": [
      "7329046.582546289  Mean Squared Error, QLD\n"
     ]
    }
   ],
   "source": [
    "#Baseline Metrics QLD, all years\n",
    "filter_state = 'QLD1'\n",
    "rows = df[df.REGIONID_x == filter_state].index\n",
    "cols = ['TOTALDEMAND','FORECASTDEMAND']\n",
    "\n",
    "nsw = df.loc[rows,cols]\n",
    "\n",
    "y_pred_all = nsw['FORECASTDEMAND'].to_numpy()\n",
    "y_true_all = nsw['TOTALDEMAND'].to_numpy()\n",
    "\n",
    "mae_all = mean_squared_error(y_true_all, y_pred_all)\n",
    "\n",
    "print(mae_all, ' Mean Squared Error, QLD')"
   ]
  },
  {
   "cell_type": "code",
   "execution_count": 42,
   "id": "53581cd1",
   "metadata": {},
   "outputs": [
    {
     "name": "stdout",
     "output_type": "stream",
     "text": [
      "28215613.172914725  Mean Squared Error, SA\n"
     ]
    }
   ],
   "source": [
    "#Baseline Metrics VIC, all years\n",
    "filter_state = 'SA1'\n",
    "rows = df[df.REGIONID_x == filter_state].index\n",
    "cols = ['TOTALDEMAND','FORECASTDEMAND']\n",
    "\n",
    "nsw = df.loc[rows,cols]\n",
    "\n",
    "y_pred_all = nsw['FORECASTDEMAND'].to_numpy()\n",
    "y_true_all = nsw['TOTALDEMAND'].to_numpy()\n",
    "\n",
    "mae_all = mean_squared_error(y_true_all, y_pred_all)\n",
    "\n",
    "print(mae_all, ' Mean Squared Error, SA')"
   ]
  },
  {
   "cell_type": "code",
   "execution_count": 43,
   "id": "75000d95",
   "metadata": {},
   "outputs": [
    {
     "name": "stdout",
     "output_type": "stream",
     "text": [
      "3640406.803924413  Mean Squared Error, 2010\n"
     ]
    }
   ],
   "source": [
    "#Baseline Metrics 2010\n",
    "filter_date = '2010'\n",
    "rows = df[df.DATETIME == filter_date].index\n",
    "cols = ['TOTALDEMAND','FORECASTDEMAND']\n",
    "\n",
    "nsw = df.loc[rows,cols]\n",
    "\n",
    "y_pred_all = nsw['FORECASTDEMAND'].to_numpy()\n",
    "y_true_all = nsw['TOTALDEMAND'].to_numpy()\n",
    "\n",
    "mae_all = mean_squared_error(y_true_all, y_pred_all)\n",
    "\n",
    "print(mae_all, ' Mean Squared Error, 2010')"
   ]
  },
  {
   "cell_type": "code",
   "execution_count": 44,
   "id": "e8bfae1b",
   "metadata": {},
   "outputs": [
    {
     "name": "stdout",
     "output_type": "stream",
     "text": [
      "11115439.774866126  Mean Squared Error, 2019\n"
     ]
    }
   ],
   "source": [
    "#Baseline Metrics 2019\n",
    "filter_date = '2019'\n",
    "rows = df[df.DATETIME == filter_date].index\n",
    "cols = ['TOTALDEMAND','FORECASTDEMAND']\n",
    "\n",
    "nsw = df.loc[rows,cols]\n",
    "\n",
    "y_pred_all = nsw['FORECASTDEMAND'].to_numpy()\n",
    "y_true_all = nsw['TOTALDEMAND'].to_numpy()\n",
    "\n",
    "mae_all = mean_squared_error(y_true_all, y_pred_all)\n",
    "\n",
    "print(mae_all, ' Mean Squared Error, 2019')"
   ]
  },
  {
   "cell_type": "code",
   "execution_count": 46,
   "id": "83531b89",
   "metadata": {},
   "outputs": [
    {
     "name": "stdout",
     "output_type": "stream",
     "text": [
      "46191.3297690141  Mean Squared Error, NSW 2010\n"
     ]
    }
   ],
   "source": [
    "#Baseline Metrics 2010\n",
    "filter_date = '2010'\n",
    "filter_state = 'NSW1'\n",
    "rows = df[(df.DATETIME == filter_date) & (df.REGIONID_x == filter_state)].index\n",
    "cols = ['TOTALDEMAND','FORECASTDEMAND']\n",
    "\n",
    "nsw = df.loc[rows,cols]\n",
    "\n",
    "y_pred_all = nsw['FORECASTDEMAND'].to_numpy()\n",
    "y_true_all = nsw['TOTALDEMAND'].to_numpy()\n",
    "\n",
    "mae_all = mean_squared_error(y_true_all, y_pred_all)\n",
    "\n",
    "print(mae_all, ' Mean Squared Error, NSW 2010')"
   ]
  },
  {
   "cell_type": "code",
   "execution_count": 48,
   "id": "36d7d65b",
   "metadata": {},
   "outputs": [
    {
     "name": "stdout",
     "output_type": "stream",
     "text": [
      "12694611.693793308  Mean Squared Error, NSW 2019\n"
     ]
    }
   ],
   "source": [
    "#Baseline Metrics 2019\n",
    "filter_date = '2019'\n",
    "filter_state = 'NSW1'\n",
    "rows = df[(df.DATETIME == filter_date) & (df.REGIONID_x == filter_state)].index\n",
    "cols = ['TOTALDEMAND','FORECASTDEMAND']\n",
    "\n",
    "nsw = df.loc[rows,cols]\n",
    "\n",
    "y_pred_all = nsw['FORECASTDEMAND'].to_numpy()\n",
    "y_true_all = nsw['TOTALDEMAND'].to_numpy()\n",
    "\n",
    "mae_all = mean_squared_error(y_true_all, y_pred_all)\n",
    "\n",
    "print(mae_all, ' Mean Squared Error, NSW 2019')"
   ]
  },
  {
   "cell_type": "code",
   "execution_count": 56,
   "id": "320022b0",
   "metadata": {},
   "outputs": [],
   "source": [
    "#start_date = '2010'\n",
    "#end_date = '2019'\n",
    "#rows = df[(df.DATETIME > start_date) & (df.DATETIME < end_date)].index\n",
    "#cols = ['DATETIME','TOTALDEMAND','FORECASTDEMAND','REGIONID_x']\n",
    "#fig = plt.figure(figsize = (15,8))\n",
    "#sns.lineplot(x='DATETIME',y='FORECASTDEMAND', data=df)\n",
    "#sns.lineplot(x='DATETIME',y='TOTALDEMAND', data=df.loc[rows,cols], hue='REGIONID_x')\n",
    "#plt.xlabel('Reporting Period')\n",
    "#plt.ylabel('Demand Forecast')\n",
    "#plt.title('Demand Forecast ALL ')"
   ]
  },
  {
   "cell_type": "code",
   "execution_count": null,
   "id": "c8d85457",
   "metadata": {},
   "outputs": [],
   "source": []
  }
 ],
 "metadata": {
  "kernelspec": {
   "display_name": "Python 3 (ipykernel)",
   "language": "python",
   "name": "python3"
  },
  "language_info": {
   "codemirror_mode": {
    "name": "ipython",
    "version": 3
   },
   "file_extension": ".py",
   "mimetype": "text/x-python",
   "name": "python",
   "nbconvert_exporter": "python",
   "pygments_lexer": "ipython3",
   "version": "3.7.6"
  }
 },
 "nbformat": 4,
 "nbformat_minor": 5
}
