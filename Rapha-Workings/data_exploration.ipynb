{
 "cells": [
  {
   "cell_type": "code",
   "execution_count": 1,
   "id": "ff75fe95",
   "metadata": {},
   "outputs": [],
   "source": [
    "# -*- coding: utf-8 -*-\n",
    "\"\"\"\n",
    "Created on Thu Mar  3 17:49:50 2022\n",
    "\n",
    "@author: r.muema\n",
    "\"\"\"\n",
    "import pandas as pd\n",
    "import seaborn as sns\n",
    "import matplotlib.pyplot as plt\n",
    "import utils"
   ]
  },
  {
   "cell_type": "markdown",
   "id": "57b857ca",
   "metadata": {},
   "source": [
    "Change path to where datasets are saved"
   ]
  },
  {
   "cell_type": "code",
   "execution_count": 3,
   "id": "5e45860c",
   "metadata": {},
   "outputs": [],
   "source": [
    "# Load NSW data\n",
    "forecastdemand_nsw = pd.read_csv(\"../../Datasets/forecastdemand_nsw.csv\")\n",
    "temperature_nsw = pd.read_csv(\"../../Datasets/temperature_nsw.csv\")\n",
    "totaldemand_nsw = pd.read_csv(\"../../Datasets/totaldemand_nsw.csv\")"
   ]
  },
  {
   "cell_type": "code",
   "execution_count": 4,
   "id": "eeaa8ae6",
   "metadata": {},
   "outputs": [],
   "source": [
    "# # Load QLD data\n",
    "# forecastdemand_qld = pd.read_csv(\"Datasets/forecastdemand_qld.csv\")\n",
    "# temprature_qld = pd.read_csv(\"Datasets/temprature_qld.csv\")\n",
    "# totaldemand_qld = pd.read_csv(\"Datasets/totaldemand_qld.csv\")"
   ]
  },
  {
   "cell_type": "code",
   "execution_count": 5,
   "id": "25fa8785",
   "metadata": {},
   "outputs": [],
   "source": [
    "# # Load SA data\n",
    "# forecastdemand_sa = pd.read_csv(\"Datasets/forecastdemand_sa.csv\")\n",
    "# temprature_sa = pd.read_csv(\"Datasets/temprature_sa.csv\")\n",
    "# totaldemand_sa = pd.read_csv(\"Datasets/totaldemand_sa.csv\")"
   ]
  },
  {
   "cell_type": "code",
   "execution_count": null,
   "id": "f559b090",
   "metadata": {},
   "outputs": [],
   "source": [
    "# # Load VIC data\n",
    "# forecastdemand_vic = pd.read_csv(\"Datasets/forecastdemand_vic.csv\")\n",
    "# temprature_vic = pd.read_csv(\"Datasets/temprature_vic.csv\")\n",
    "# totaldemand_vic = pd.read_csv(\"Datasets/totaldemand_vic.csv\")"
   ]
  },
  {
   "cell_type": "code",
   "execution_count": 6,
   "id": "29c1b298",
   "metadata": {},
   "outputs": [],
   "source": [
    "# Combine temperature and demand \n",
    "combined_temperature_totaldemand_nsw = pd.merge(temperature_nsw, totaldemand_nsw, on=\"DATETIME\")"
   ]
  },
  {
   "cell_type": "code",
   "execution_count": 7,
   "id": "4d4a5c0c",
   "metadata": {},
   "outputs": [
    {
     "data": {
      "text/html": [
       "<div>\n",
       "<style scoped>\n",
       "    .dataframe tbody tr th:only-of-type {\n",
       "        vertical-align: middle;\n",
       "    }\n",
       "\n",
       "    .dataframe tbody tr th {\n",
       "        vertical-align: top;\n",
       "    }\n",
       "\n",
       "    .dataframe thead th {\n",
       "        text-align: right;\n",
       "    }\n",
       "</style>\n",
       "<table border=\"1\" class=\"dataframe\">\n",
       "  <thead>\n",
       "    <tr style=\"text-align: right;\">\n",
       "      <th></th>\n",
       "      <th>LOCATION</th>\n",
       "      <th>DATETIME</th>\n",
       "      <th>TEMPERATURE</th>\n",
       "      <th>TOTALDEMAND</th>\n",
       "      <th>REGIONID</th>\n",
       "    </tr>\n",
       "  </thead>\n",
       "  <tbody>\n",
       "    <tr>\n",
       "      <th>0</th>\n",
       "      <td>Bankstown</td>\n",
       "      <td>1/1/2010 0:00</td>\n",
       "      <td>23.1</td>\n",
       "      <td>8038.00</td>\n",
       "      <td>NSW1</td>\n",
       "    </tr>\n",
       "    <tr>\n",
       "      <th>1</th>\n",
       "      <td>Bankstown</td>\n",
       "      <td>1/1/2010 0:30</td>\n",
       "      <td>22.9</td>\n",
       "      <td>7809.31</td>\n",
       "      <td>NSW1</td>\n",
       "    </tr>\n",
       "    <tr>\n",
       "      <th>2</th>\n",
       "      <td>Bankstown</td>\n",
       "      <td>1/1/2010 1:00</td>\n",
       "      <td>22.6</td>\n",
       "      <td>7483.69</td>\n",
       "      <td>NSW1</td>\n",
       "    </tr>\n",
       "    <tr>\n",
       "      <th>3</th>\n",
       "      <td>Bankstown</td>\n",
       "      <td>1/1/2010 1:30</td>\n",
       "      <td>22.5</td>\n",
       "      <td>7117.23</td>\n",
       "      <td>NSW1</td>\n",
       "    </tr>\n",
       "    <tr>\n",
       "      <th>4</th>\n",
       "      <td>Bankstown</td>\n",
       "      <td>1/1/2010 2:00</td>\n",
       "      <td>22.5</td>\n",
       "      <td>6812.03</td>\n",
       "      <td>NSW1</td>\n",
       "    </tr>\n",
       "  </tbody>\n",
       "</table>\n",
       "</div>"
      ],
      "text/plain": [
       "    LOCATION       DATETIME  TEMPERATURE  TOTALDEMAND REGIONID\n",
       "0  Bankstown  1/1/2010 0:00         23.1      8038.00     NSW1\n",
       "1  Bankstown  1/1/2010 0:30         22.9      7809.31     NSW1\n",
       "2  Bankstown  1/1/2010 1:00         22.6      7483.69     NSW1\n",
       "3  Bankstown  1/1/2010 1:30         22.5      7117.23     NSW1\n",
       "4  Bankstown  1/1/2010 2:00         22.5      6812.03     NSW1"
      ]
     },
     "execution_count": 7,
     "metadata": {},
     "output_type": "execute_result"
    }
   ],
   "source": [
    "# Display top 5 results\n",
    "combined_temperature_totaldemand_nsw.head()"
   ]
  },
  {
   "cell_type": "code",
   "execution_count": 8,
   "id": "ba56dceb",
   "metadata": {},
   "outputs": [],
   "source": [
    "# Create extra fields from the data\n",
    "combined_temperature_totaldemand_nsw['DATETIME'] = combined_temperature_totaldemand_nsw['DATETIME'].apply(lambda x: utils.calculate_month(x))\n",
    "combined_temperature_totaldemand_nsw['YEAR'] = combined_temperature_totaldemand_nsw['DATETIME'].dt.year\n",
    "combined_temperature_totaldemand_nsw['MONTH'] = combined_temperature_totaldemand_nsw['DATETIME'].dt.month_name().str[:3]\n",
    "combined_temperature_totaldemand_nsw['SEASON'] = combined_temperature_totaldemand_nsw['MONTH'].apply(lambda x: utils.calculate_season(x))"
   ]
  },
  {
   "cell_type": "code",
   "execution_count": 9,
   "id": "bf9b6d4f",
   "metadata": {},
   "outputs": [
    {
     "data": {
      "text/html": [
       "<div>\n",
       "<style scoped>\n",
       "    .dataframe tbody tr th:only-of-type {\n",
       "        vertical-align: middle;\n",
       "    }\n",
       "\n",
       "    .dataframe tbody tr th {\n",
       "        vertical-align: top;\n",
       "    }\n",
       "\n",
       "    .dataframe thead th {\n",
       "        text-align: right;\n",
       "    }\n",
       "</style>\n",
       "<table border=\"1\" class=\"dataframe\">\n",
       "  <thead>\n",
       "    <tr style=\"text-align: right;\">\n",
       "      <th></th>\n",
       "      <th>LOCATION</th>\n",
       "      <th>DATETIME</th>\n",
       "      <th>TEMPERATURE</th>\n",
       "      <th>TOTALDEMAND</th>\n",
       "      <th>REGIONID</th>\n",
       "      <th>YEAR</th>\n",
       "      <th>MONTH</th>\n",
       "      <th>SEASON</th>\n",
       "    </tr>\n",
       "  </thead>\n",
       "  <tbody>\n",
       "    <tr>\n",
       "      <th>0</th>\n",
       "      <td>Bankstown</td>\n",
       "      <td>2010-01-01 00:00:00</td>\n",
       "      <td>23.1</td>\n",
       "      <td>8038.00</td>\n",
       "      <td>NSW1</td>\n",
       "      <td>2010</td>\n",
       "      <td>Jan</td>\n",
       "      <td>Summer</td>\n",
       "    </tr>\n",
       "    <tr>\n",
       "      <th>1</th>\n",
       "      <td>Bankstown</td>\n",
       "      <td>2010-01-01 00:30:00</td>\n",
       "      <td>22.9</td>\n",
       "      <td>7809.31</td>\n",
       "      <td>NSW1</td>\n",
       "      <td>2010</td>\n",
       "      <td>Jan</td>\n",
       "      <td>Summer</td>\n",
       "    </tr>\n",
       "    <tr>\n",
       "      <th>2</th>\n",
       "      <td>Bankstown</td>\n",
       "      <td>2010-01-01 01:00:00</td>\n",
       "      <td>22.6</td>\n",
       "      <td>7483.69</td>\n",
       "      <td>NSW1</td>\n",
       "      <td>2010</td>\n",
       "      <td>Jan</td>\n",
       "      <td>Summer</td>\n",
       "    </tr>\n",
       "    <tr>\n",
       "      <th>3</th>\n",
       "      <td>Bankstown</td>\n",
       "      <td>2010-01-01 01:30:00</td>\n",
       "      <td>22.5</td>\n",
       "      <td>7117.23</td>\n",
       "      <td>NSW1</td>\n",
       "      <td>2010</td>\n",
       "      <td>Jan</td>\n",
       "      <td>Summer</td>\n",
       "    </tr>\n",
       "    <tr>\n",
       "      <th>4</th>\n",
       "      <td>Bankstown</td>\n",
       "      <td>2010-01-01 02:00:00</td>\n",
       "      <td>22.5</td>\n",
       "      <td>6812.03</td>\n",
       "      <td>NSW1</td>\n",
       "      <td>2010</td>\n",
       "      <td>Jan</td>\n",
       "      <td>Summer</td>\n",
       "    </tr>\n",
       "  </tbody>\n",
       "</table>\n",
       "</div>"
      ],
      "text/plain": [
       "    LOCATION            DATETIME  TEMPERATURE  TOTALDEMAND REGIONID  YEAR  \\\n",
       "0  Bankstown 2010-01-01 00:00:00         23.1      8038.00     NSW1  2010   \n",
       "1  Bankstown 2010-01-01 00:30:00         22.9      7809.31     NSW1  2010   \n",
       "2  Bankstown 2010-01-01 01:00:00         22.6      7483.69     NSW1  2010   \n",
       "3  Bankstown 2010-01-01 01:30:00         22.5      7117.23     NSW1  2010   \n",
       "4  Bankstown 2010-01-01 02:00:00         22.5      6812.03     NSW1  2010   \n",
       "\n",
       "  MONTH  SEASON  \n",
       "0   Jan  Summer  \n",
       "1   Jan  Summer  \n",
       "2   Jan  Summer  \n",
       "3   Jan  Summer  \n",
       "4   Jan  Summer  "
      ]
     },
     "execution_count": 9,
     "metadata": {},
     "output_type": "execute_result"
    }
   ],
   "source": [
    "# Display top 5 results\n",
    "combined_temperature_totaldemand_nsw.head()"
   ]
  },
  {
   "cell_type": "code",
   "execution_count": 10,
   "id": "f807d7cb",
   "metadata": {},
   "outputs": [],
   "source": [
    "# Save combined dataframe\n",
    "combined_temperature_totaldemand_nsw.to_csv('../../Datasets/combined_temperature_totaldemand_nsw.csv',header=combined_temperature_totaldemand_nsw.columns, index=False)"
   ]
  },
  {
   "cell_type": "code",
   "execution_count": null,
   "id": "aaa6ce3a",
   "metadata": {},
   "outputs": [],
   "source": []
  }
 ],
 "metadata": {
  "kernelspec": {
   "display_name": "Python 3 (ipykernel)",
   "language": "python",
   "name": "python3"
  },
  "language_info": {
   "codemirror_mode": {
    "name": "ipython",
    "version": 3
   },
   "file_extension": ".py",
   "mimetype": "text/x-python",
   "name": "python",
   "nbconvert_exporter": "python",
   "pygments_lexer": "ipython3",
   "version": "3.7.6"
  }
 },
 "nbformat": 4,
 "nbformat_minor": 5
}
