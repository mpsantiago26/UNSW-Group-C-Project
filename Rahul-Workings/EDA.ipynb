{
 "cells": [
  {
   "cell_type": "code",
   "execution_count": 1,
   "id": "68f67326",
   "metadata": {},
   "outputs": [],
   "source": [
    "# Script Name: EDA Analysis on the Datasets\n",
    "# Author: Rahul Kumar\n",
    "# Date: 11/3/22\n",
    "# Description: Gain some insights on the dataset\n",
    "\n",
    "import pandas as pd\n",
    "import numpy as np\n",
    "from math import sqrt\n",
    "import seaborn as sns\n",
    "import matplotlib.pyplot as plt\n",
    "\n",
    "# This actually sets the pandas display to show all rows and columns \n",
    "# when you are showing a dataframe, without skipping the center\n",
    "pd.set_option('display.max_rows', None)\n",
    "pd.set_option('display.max_columns', None)"
   ]
  },
  {
   "cell_type": "code",
   "execution_count": null,
   "id": "65018290",
   "metadata": {},
   "outputs": [],
   "source": [
    "# Strings for using in writing of files\n",
    "\n",
    "filepath = '../../H06-2021/' # If you want to run the code, change the file path to where you store the files. This reference\n",
    "                                # is to where I store the files outside the github clone\n",
    "    \n",
    "data_outpath = '../data/' #storing saved group csvs location\n",
    "\n",
    "outpath = '/data/' #My folder specific data folder\n",
    "images = '/images/' #My folder specific image folder\n",
    "\n",
    "csv = '.csv'\n",
    "xlsx = '.xlsx'"
   ]
  },
  {
   "cell_type": "code",
   "execution_count": null,
   "id": "8ef33089",
   "metadata": {},
   "outputs": [],
   "source": [
    "# Forecast and Total Data analysis\n",
    "td_nsw = pd.read_csv(filepath+'totaldemand'+'_'+'nsw'+csv)\n",
    "fd_nsw = pd.read_csv(filepath+'forecastdemand'+'_'+'nsw'+csv)\n",
    "fd_nsw = fd_nsw[['FORECASTDEMAND','DATETIME']]"
   ]
  }
 ],
 "metadata": {
  "kernelspec": {
   "display_name": "Python 3 (ipykernel)",
   "language": "python",
   "name": "python3"
  },
  "language_info": {
   "codemirror_mode": {
    "name": "ipython",
    "version": 3
   },
   "file_extension": ".py",
   "mimetype": "text/x-python",
   "name": "python",
   "nbconvert_exporter": "python",
   "pygments_lexer": "ipython3",
   "version": "3.8.8"
  }
 },
 "nbformat": 4,
 "nbformat_minor": 5
}
