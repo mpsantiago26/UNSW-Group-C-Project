{
 "cells": [
  {
   "cell_type": "code",
   "execution_count": 1,
   "id": "0d0013bc",
   "metadata": {},
   "outputs": [],
   "source": [
    "# Script Name: Combination of Temperature and Energy Demand\n",
    "# Author: Rahul Kumar\n",
    "# Date: 4/3/22\n",
    "# Description: The purpose of the script is to combine the temperature and energy demand data into a unified dataset that \n",
    "# can be used to work with\n",
    "\n",
    "import pandas as pd\n",
    "import numpy as np\n",
    "from math import sqrt\n",
    "import seaborn as sns\n",
    "\n",
    "# This actually sets the pandas display to show all rows and columns \n",
    "# when you are showing a dataframe, without skipping the center\n",
    "pd.set_option('display.max_rows', None)\n",
    "pd.set_option('display.max_columns', None)"
   ]
  },
  {
   "cell_type": "code",
   "execution_count": null,
   "id": "a9e6e0a1",
   "metadata": {},
   "outputs": [],
   "source": []
  }
 ],
 "metadata": {
  "kernelspec": {
   "display_name": "Python 3 (ipykernel)",
   "language": "python",
   "name": "python3"
  },
  "language_info": {
   "codemirror_mode": {
    "name": "ipython",
    "version": 3
   },
   "file_extension": ".py",
   "mimetype": "text/x-python",
   "name": "python",
   "nbconvert_exporter": "python",
   "pygments_lexer": "ipython3",
   "version": "3.8.8"
  }
 },
 "nbformat": 4,
 "nbformat_minor": 5
}
