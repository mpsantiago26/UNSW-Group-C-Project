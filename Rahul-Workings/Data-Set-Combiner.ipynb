{
 "cells": [
  {
   "cell_type": "code",
   "execution_count": 1,
   "id": "0d0013bc",
   "metadata": {},
   "outputs": [],
   "source": [
    "# Script Name: Combination of Temperature and Energy Demand\n",
    "# Author: Rahul Kumar\n",
    "# Date: 4/3/22\n",
    "# Description: The purpose of the script is to combine the temperature and energy demand data into a unified dataset that \n",
    "# can be used to work with\n",
    "\n",
    "import pandas as pd\n",
    "import numpy as np\n",
    "from math import sqrt\n",
    "import seaborn as sns\n",
    "\n",
    "# This actually sets the pandas display to show all rows and columns \n",
    "# when you are showing a dataframe, without skipping the center\n",
    "pd.set_option('display.max_rows', None)\n",
    "pd.set_option('display.max_columns', None)"
   ]
  },
  {
   "cell_type": "code",
   "execution_count": 2,
   "id": "7f5971be",
   "metadata": {},
   "outputs": [],
   "source": [
    "filepath = '../../H06-2021/' # If you want to run the code, change the file path to where you store the files. This reference\n",
    "                                # is to where I store the files outside the github clone\n",
    "# filename = 'totaldemand_nsw'\n",
    "ext = '.csv'\n",
    "\n",
    "states = ['nsw','qld','sa','vic']"
   ]
  },
  {
   "cell_type": "code",
   "execution_count": 3,
   "id": "a9e6e0a1",
   "metadata": {},
   "outputs": [],
   "source": [
    "# 'temprature', 'totaldemand', 'forecastdemand' <-correct your NSW temperature filename to temprature\n",
    "\n",
    "filename = 'temprature'\n",
    "temp = pd.DataFrame(columns=['LOCATION','DATETIME','TEMPERATURE'])\n",
    "\n",
    "for state in states:\n",
    "    input = pd.read_csv(filepath+filename+'_'+state+ext)\n",
    "    temp = pd.concat([temp,input], ignore_index=True)\n",
    "    \n",
    "temp.to_csv(filename+ext)"
   ]
  },
  {
   "cell_type": "code",
   "execution_count": 4,
   "id": "b7cd19e1",
   "metadata": {},
   "outputs": [],
   "source": [
    "filename = 'totaldemand'\n",
    "demand = pd.DataFrame(columns=['DATETIME','TOTALDEMAND','REGIONID'])\n",
    "\n",
    "for state in states:\n",
    "    input = pd.read_csv(filepath+filename+'_'+state+ext)\n",
    "    demand = pd.concat([demand,input], ignore_index=True)\n",
    "    \n",
    "demand.to_csv(filename+ext)"
   ]
  },
  {
   "cell_type": "code",
   "execution_count": 5,
   "id": "d3fa48b5",
   "metadata": {},
   "outputs": [],
   "source": [
    "# data = pd.DataFrame(columns=['DATETIME','TOTALDEMAND','REGIONID'])"
   ]
  },
  {
   "cell_type": "code",
   "execution_count": null,
   "id": "a75825fb",
   "metadata": {},
   "outputs": [],
   "source": []
  }
 ],
 "metadata": {
  "kernelspec": {
   "display_name": "Python 3 (ipykernel)",
   "language": "python",
   "name": "python3"
  },
  "language_info": {
   "codemirror_mode": {
    "name": "ipython",
    "version": 3
   },
   "file_extension": ".py",
   "mimetype": "text/x-python",
   "name": "python",
   "nbconvert_exporter": "python",
   "pygments_lexer": "ipython3",
   "version": "3.8.8"
  }
 },
 "nbformat": 4,
 "nbformat_minor": 5
}
